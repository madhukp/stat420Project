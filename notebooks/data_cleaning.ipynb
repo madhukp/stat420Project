{
 "cells": [
  {
   "cell_type": "code",
   "execution_count": 1,
   "metadata": {},
   "outputs": [],
   "source": [
    "import pandas as pd"
   ]
  },
  {
   "cell_type": "code",
   "execution_count": 15,
   "metadata": {},
   "outputs": [],
   "source": [
    "df = pd.read_csv(\"../data/recipeData.csv\", encoding = 'latin-1')"
   ]
  },
  {
   "cell_type": "code",
   "execution_count": 16,
   "metadata": {},
   "outputs": [
    {
     "name": "stdout",
     "output_type": "stream",
     "text": [
      "<class 'pandas.core.frame.DataFrame'>\n",
      "RangeIndex: 73861 entries, 0 to 73860\n",
      "Data columns (total 23 columns):\n",
      "BeerID           73861 non-null int64\n",
      "Name             73860 non-null object\n",
      "URL              73861 non-null object\n",
      "Style            73265 non-null object\n",
      "StyleID          73861 non-null int64\n",
      "Size(L)          73861 non-null float64\n",
      "OG               73861 non-null float64\n",
      "FG               73861 non-null float64\n",
      "ABV              73861 non-null float64\n",
      "IBU              73861 non-null float64\n",
      "Color            73861 non-null float64\n",
      "BoilSize         73861 non-null float64\n",
      "BoilTime         73861 non-null int64\n",
      "BoilGravity      70871 non-null float64\n",
      "Efficiency       73861 non-null float64\n",
      "MashThickness    43997 non-null float64\n",
      "SugarScale       73861 non-null object\n",
      "BrewMethod       73861 non-null object\n",
      "PitchRate        34609 non-null float64\n",
      "PrimaryTemp      51199 non-null float64\n",
      "PrimingMethod    6766 non-null object\n",
      "PrimingAmount    4774 non-null object\n",
      "UserId           23371 non-null float64\n",
      "dtypes: float64(13), int64(3), object(7)\n",
      "memory usage: 13.0+ MB\n"
     ]
    }
   ],
   "source": [
    "df.info()"
   ]
  },
  {
   "cell_type": "code",
   "execution_count": 17,
   "metadata": {},
   "outputs": [],
   "source": [
    "df = df.drop(columns = ['PrimingMethod', 'UserId', 'PrimingAmount', 'PitchRate', 'BeerID', 'Name', 'URL', 'StyleID', 'Style', 'Size(L)', 'MashThickness'])"
   ]
  },
  {
   "cell_type": "code",
   "execution_count": 18,
   "metadata": {},
   "outputs": [],
   "source": [
    "df = df.dropna()"
   ]
  },
  {
   "cell_type": "code",
   "execution_count": 19,
   "metadata": {},
   "outputs": [
    {
     "name": "stdout",
     "output_type": "stream",
     "text": [
      "<class 'pandas.core.frame.DataFrame'>\n",
      "Int64Index: 50734 entries, 0 to 73860\n",
      "Data columns (total 12 columns):\n",
      "OG             50734 non-null float64\n",
      "FG             50734 non-null float64\n",
      "ABV            50734 non-null float64\n",
      "IBU            50734 non-null float64\n",
      "Color          50734 non-null float64\n",
      "BoilSize       50734 non-null float64\n",
      "BoilTime       50734 non-null int64\n",
      "BoilGravity    50734 non-null float64\n",
      "Efficiency     50734 non-null float64\n",
      "SugarScale     50734 non-null object\n",
      "BrewMethod     50734 non-null object\n",
      "PrimaryTemp    50734 non-null float64\n",
      "dtypes: float64(9), int64(1), object(2)\n",
      "memory usage: 5.0+ MB\n"
     ]
    }
   ],
   "source": [
    "df.info()"
   ]
  },
  {
   "cell_type": "code",
   "execution_count": 20,
   "metadata": {
    "scrolled": true
   },
   "outputs": [
    {
     "data": {
      "text/html": [
       "<div>\n",
       "<style scoped>\n",
       "    .dataframe tbody tr th:only-of-type {\n",
       "        vertical-align: middle;\n",
       "    }\n",
       "\n",
       "    .dataframe tbody tr th {\n",
       "        vertical-align: top;\n",
       "    }\n",
       "\n",
       "    .dataframe thead th {\n",
       "        text-align: right;\n",
       "    }\n",
       "</style>\n",
       "<table border=\"1\" class=\"dataframe\">\n",
       "  <thead>\n",
       "    <tr style=\"text-align: right;\">\n",
       "      <th></th>\n",
       "      <th>OG</th>\n",
       "      <th>FG</th>\n",
       "      <th>ABV</th>\n",
       "      <th>IBU</th>\n",
       "      <th>Color</th>\n",
       "      <th>BoilSize</th>\n",
       "      <th>BoilTime</th>\n",
       "      <th>BoilGravity</th>\n",
       "      <th>Efficiency</th>\n",
       "      <th>SugarScale</th>\n",
       "      <th>BrewMethod</th>\n",
       "      <th>PrimaryTemp</th>\n",
       "    </tr>\n",
       "  </thead>\n",
       "  <tbody>\n",
       "    <tr>\n",
       "      <th>0</th>\n",
       "      <td>1.055</td>\n",
       "      <td>1.013</td>\n",
       "      <td>5.48</td>\n",
       "      <td>17.65</td>\n",
       "      <td>4.83</td>\n",
       "      <td>28.39</td>\n",
       "      <td>75</td>\n",
       "      <td>1.038</td>\n",
       "      <td>70.0</td>\n",
       "      <td>Specific Gravity</td>\n",
       "      <td>All Grain</td>\n",
       "      <td>17.78</td>\n",
       "    </tr>\n",
       "    <tr>\n",
       "      <th>4</th>\n",
       "      <td>1.060</td>\n",
       "      <td>1.010</td>\n",
       "      <td>6.48</td>\n",
       "      <td>17.84</td>\n",
       "      <td>4.57</td>\n",
       "      <td>60.00</td>\n",
       "      <td>90</td>\n",
       "      <td>1.050</td>\n",
       "      <td>72.0</td>\n",
       "      <td>Specific Gravity</td>\n",
       "      <td>All Grain</td>\n",
       "      <td>19.00</td>\n",
       "    </tr>\n",
       "    <tr>\n",
       "      <th>9</th>\n",
       "      <td>1.080</td>\n",
       "      <td>1.017</td>\n",
       "      <td>8.22</td>\n",
       "      <td>93.02</td>\n",
       "      <td>8.29</td>\n",
       "      <td>28.39</td>\n",
       "      <td>60</td>\n",
       "      <td>1.058</td>\n",
       "      <td>70.0</td>\n",
       "      <td>Specific Gravity</td>\n",
       "      <td>All Grain</td>\n",
       "      <td>21.11</td>\n",
       "    </tr>\n",
       "    <tr>\n",
       "      <th>10</th>\n",
       "      <td>1.064</td>\n",
       "      <td>1.014</td>\n",
       "      <td>6.63</td>\n",
       "      <td>64.26</td>\n",
       "      <td>7.78</td>\n",
       "      <td>29.00</td>\n",
       "      <td>90</td>\n",
       "      <td>1.055</td>\n",
       "      <td>74.0</td>\n",
       "      <td>Specific Gravity</td>\n",
       "      <td>All Grain</td>\n",
       "      <td>18.00</td>\n",
       "    </tr>\n",
       "    <tr>\n",
       "      <th>13</th>\n",
       "      <td>1.066</td>\n",
       "      <td>1.017</td>\n",
       "      <td>6.51</td>\n",
       "      <td>60.96</td>\n",
       "      <td>10.54</td>\n",
       "      <td>11.36</td>\n",
       "      <td>60</td>\n",
       "      <td>1.110</td>\n",
       "      <td>30.0</td>\n",
       "      <td>Specific Gravity</td>\n",
       "      <td>extract</td>\n",
       "      <td>18.33</td>\n",
       "    </tr>\n",
       "  </tbody>\n",
       "</table>\n",
       "</div>"
      ],
      "text/plain": [
       "       OG     FG   ABV    IBU  Color  BoilSize  BoilTime  BoilGravity  \\\n",
       "0   1.055  1.013  5.48  17.65   4.83     28.39        75        1.038   \n",
       "4   1.060  1.010  6.48  17.84   4.57     60.00        90        1.050   \n",
       "9   1.080  1.017  8.22  93.02   8.29     28.39        60        1.058   \n",
       "10  1.064  1.014  6.63  64.26   7.78     29.00        90        1.055   \n",
       "13  1.066  1.017  6.51  60.96  10.54     11.36        60        1.110   \n",
       "\n",
       "    Efficiency        SugarScale BrewMethod  PrimaryTemp  \n",
       "0         70.0  Specific Gravity  All Grain        17.78  \n",
       "4         72.0  Specific Gravity  All Grain        19.00  \n",
       "9         70.0  Specific Gravity  All Grain        21.11  \n",
       "10        74.0  Specific Gravity  All Grain        18.00  \n",
       "13        30.0  Specific Gravity    extract        18.33  "
      ]
     },
     "execution_count": 20,
     "metadata": {},
     "output_type": "execute_result"
    }
   ],
   "source": [
    "df.head()"
   ]
  },
  {
   "cell_type": "code",
   "execution_count": 21,
   "metadata": {},
   "outputs": [],
   "source": [
    "df.to_csv('../data/recipeData_clean.csv', index = False)"
   ]
  }
 ],
 "metadata": {
  "kernelspec": {
   "display_name": "Python 3",
   "language": "python",
   "name": "python3"
  },
  "language_info": {
   "codemirror_mode": {
    "name": "ipython",
    "version": 3
   },
   "file_extension": ".py",
   "mimetype": "text/x-python",
   "name": "python",
   "nbconvert_exporter": "python",
   "pygments_lexer": "ipython3",
   "version": "3.6.5"
  }
 },
 "nbformat": 4,
 "nbformat_minor": 2
}
